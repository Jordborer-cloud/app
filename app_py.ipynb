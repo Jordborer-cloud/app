{
  "nbformat": 4,
  "nbformat_minor": 0,
  "metadata": {
    "colab": {
      "provenance": []
    },
    "kernelspec": {
      "name": "python3",
      "display_name": "Python 3"
    },
    "language_info": {
      "name": "python"
    }
  },
  "cells": [
    {
      "cell_type": "code",
      "execution_count": null,
      "metadata": {
        "id": "kqbUkWxrWlRs"
      },
      "outputs": [],
      "source": [
        "with open(\"requirements.txt\", \"w\") as f:\n",
        "    f.write(\"streamlit\\nmatplotlib\\nnumpy\\nseaborn\")\n"
      ]
    },
    {
      "cell_type": "markdown",
      "source": [
        "with open(\"requirements.txt\", \"w\") as f:\n",
        "    f.write(\"streamlit\\nmatplotlib\\nnumpy\\nseaborn\")\n"
      ],
      "metadata": {
        "id": "8JODrb-ZXKmG"
      }
    }
  ]
}